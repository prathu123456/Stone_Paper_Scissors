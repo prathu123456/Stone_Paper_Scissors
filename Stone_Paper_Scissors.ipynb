{
 "cells": [
  {
   "cell_type": "code",
   "execution_count": 1,
   "metadata": {},
   "outputs": [],
   "source": [
    "import random\n",
    "from enum import IntEnum\n",
    "\n",
    "class Action(IntEnum):\n",
    "    Rock = 0\n",
    "    Paper = 1\n",
    "    Scissors = 2"
   ]
  },
  {
   "cell_type": "code",
   "execution_count": 2,
   "metadata": {},
   "outputs": [],
   "source": [
    "def get_user_selection():\n",
    "    user_input = input(\"Enter a choice (rock[0], paper[1], scissors[2]): \")\n",
    "    selection = int(user_input)\n",
    "    action = Action(selection)\n",
    "    return action"
   ]
  },
  {
   "cell_type": "code",
   "execution_count": 3,
   "metadata": {},
   "outputs": [],
   "source": [
    "def get_user_selection():\n",
    "    choices = [f\"{action.name}[{action.value}]\" for action in Action]\n",
    "    choices_str = \", \".join(choices)\n",
    "    selection = int(input(f\"Enter a choice ({choices_str}): \"))\n",
    "    action = Action(selection)\n",
    "    return action"
   ]
  },
  {
   "cell_type": "code",
   "execution_count": 4,
   "metadata": {},
   "outputs": [],
   "source": [
    "def get_computer_selection():\n",
    "    selection = random.randint(0, len(Action) - 1)\n",
    "    action = Action(selection)\n",
    "    return action"
   ]
  },
  {
   "cell_type": "code",
   "execution_count": 5,
   "metadata": {},
   "outputs": [],
   "source": [
    "def determine_winner(user_action, computer_action):\n",
    "    if user_action == computer_action:\n",
    "        print(f\"Both players selected {user_action.name}. It's a tie!\")\n",
    "    elif user_action == Action.Rock:\n",
    "        if computer_action == Action.Scissors:\n",
    "            print(\"Rock smashes scissors! You win!\")\n",
    "        else:\n",
    "            print(\"Paper covers rock! You lose.\")\n",
    "    elif user_action == Action.Paper:\n",
    "        if computer_action == Action.Rock:\n",
    "            print(\"Paper covers rock! You win!\")\n",
    "        else:\n",
    "            print(\"Scissors cuts paper! You lose.\")\n",
    "    elif user_action == Action.Scissors:\n",
    "        if computer_action == Action.Paper:\n",
    "            print(\"Scissors cuts paper! You win!\")\n",
    "        else:\n",
    "            print(\"Rock smashes scissors! You lose.\")"
   ]
  },
  {
   "cell_type": "code",
   "execution_count": 6,
   "metadata": {},
   "outputs": [
    {
     "name": "stdout",
     "output_type": "stream",
     "text": [
      "Enter a choice (Rock[0], Paper[1], Scissors[2]): 2\n",
      "Both players selected Scissors. It's a tie!\n",
      "Play again? (y/n): y\n",
      "Enter a choice (Rock[0], Paper[1], Scissors[2]): 1\n",
      "Scissors cuts paper! You lose.\n",
      "Play again? (y/n): y\n",
      "Enter a choice (Rock[0], Paper[1], Scissors[2]): 0\n",
      "Rock smashes scissors! You win!\n",
      "Play again? (y/n): n\n"
     ]
    }
   ],
   "source": [
    "while True:\n",
    "    try:\n",
    "        user_action = get_user_selection()\n",
    "    except ValueError as e:\n",
    "        range_str = f\"[0, {len(Action) - 1}]\"\n",
    "        print(f\"Invalid selection. Enter a value in range {range_str}\")\n",
    "        continue\n",
    "\n",
    "    computer_action = get_computer_selection()\n",
    "    determine_winner(user_action, computer_action)\n",
    "\n",
    "    play_again = input(\"Play again? (y/n): \")\n",
    "    if play_again.lower() != \"y\":\n",
    "        break"
   ]
  },
  {
   "cell_type": "code",
   "execution_count": null,
   "metadata": {},
   "outputs": [],
   "source": []
  }
 ],
 "metadata": {
  "kernelspec": {
   "display_name": "Python 3",
   "language": "python",
   "name": "python3"
  },
  "language_info": {
   "codemirror_mode": {
    "name": "ipython",
    "version": 3
   },
   "file_extension": ".py",
   "mimetype": "text/x-python",
   "name": "python",
   "nbconvert_exporter": "python",
   "pygments_lexer": "ipython3",
   "version": "3.8.5"
  }
 },
 "nbformat": 4,
 "nbformat_minor": 4
}
